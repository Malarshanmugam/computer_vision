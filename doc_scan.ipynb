{
 "cells": [
  {
   "cell_type": "code",
   "execution_count": 1,
   "metadata": {},
   "outputs": [],
   "source": [
    "import cv2\n",
    "import numpy as np\n",
    "import matplotlib.pyplot as plt\n",
    "from skimage.filters import threshold_local"
   ]
  },
  {
   "cell_type": "code",
   "execution_count": 53,
   "metadata": {},
   "outputs": [],
   "source": [
    "page = cv2.imread('images/doc_scan.jpg')"
   ]
  },
  {
   "cell_type": "code",
   "execution_count": 54,
   "metadata": {},
   "outputs": [],
   "source": [
    "cv2.imshow('tab',page)\n",
    "cv2.waitKey()\n",
    "cv2.destroyAllWindows()"
   ]
  },
  {
   "cell_type": "code",
   "execution_count": 55,
   "metadata": {},
   "outputs": [],
   "source": [
    "page = cv2.resize(page, None, fx=0.25,fy=0.25,interpolation=cv2.INTER_AREA)"
   ]
  },
  {
   "cell_type": "code",
   "execution_count": 57,
   "metadata": {},
   "outputs": [],
   "source": [
    "cv2.imshow('tab',page)\n",
    "cv2.waitKey()\n",
    "cv2.destroyAllWindows()"
   ]
  },
  {
   "cell_type": "code",
   "execution_count": 58,
   "metadata": {},
   "outputs": [],
   "source": [
    "gray = cv2.cvtColor(page,cv2.COLOR_BGR2GRAY)"
   ]
  },
  {
   "cell_type": "code",
   "execution_count": 59,
   "metadata": {},
   "outputs": [],
   "source": [
    "cv2.imshow('tab',gray)\n",
    "cv2.waitKey()\n",
    "cv2.destroyAllWindows()"
   ]
  },
  {
   "cell_type": "code",
   "execution_count": 60,
   "metadata": {},
   "outputs": [],
   "source": [
    "blur = cv2.GaussianBlur(gray,(5,5),0)\n",
    "cv2.imshow('tab',blur)\n",
    "cv2.waitKey()\n",
    "cv2.destroyAllWindows()"
   ]
  },
  {
   "cell_type": "code",
   "execution_count": 61,
   "metadata": {},
   "outputs": [],
   "source": [
    "edge = cv2.Canny(blur,75,200)\n",
    "edge_1 = edge.copy()\n",
    "cv2.imshow('tab',edge)\n",
    "cv2.waitKey()\n",
    "cv2.destroyAllWindows()"
   ]
  },
  {
   "cell_type": "code",
   "execution_count": 62,
   "metadata": {},
   "outputs": [
    {
     "data": {
      "text/plain": [
       "84"
      ]
     },
     "execution_count": 62,
     "metadata": {},
     "output_type": "execute_result"
    }
   ],
   "source": [
    "contours = cv2.findContours(edge_1,cv2.RETR_LIST,cv2.CHAIN_APPROX_SIMPLE)\n",
    "cont = sorted(contours[1], key=cv2.contourArea, reverse=True)[:5]\n",
    "len(cont[0])"
   ]
  },
  {
   "cell_type": "code",
   "execution_count": 63,
   "metadata": {},
   "outputs": [
    {
     "name": "stdout",
     "output_type": "stream",
     "text": [
      "190.65180146694183\n",
      "1023.0\n",
      "1082.2610937356949\n",
      "998.5\n",
      "164.7523066997528\n",
      "966.5\n",
      "145.4385985136032\n",
      "819.5\n",
      "136.8528118133545\n",
      "771.0\n"
     ]
    }
   ],
   "source": [
    "for c in cont:\n",
    "    peri = cv2.arcLength(c,True)\n",
    "    app = cv2.approxPolyDP(c,peri*0.02,True)\n",
    "    print(peri)\n",
    "    print(cv2.contourArea(c))\n",
    "    \n",
    "    if len(app) == 4:\n",
    "        screen = app\n",
    "        break\n",
    "        "
   ]
  },
  {
   "cell_type": "code",
   "execution_count": 64,
   "metadata": {},
   "outputs": [],
   "source": [
    "cv2.drawContours(page,[screen],-1,(0,255,0),3)\n",
    "cv2.imshow('tab',page)\n",
    "cv2.waitKey()\n",
    "cv2.destroyAllWindows()\n",
    "        \n",
    "    "
   ]
  },
  {
   "cell_type": "code",
   "execution_count": 65,
   "metadata": {},
   "outputs": [
    {
     "data": {
      "text/plain": [
       "array([[ 0.,  0.],\n",
       "       [ 0.,  0.],\n",
       "       [ 0.,  0.],\n",
       "       [ 0.,  0.]], dtype=float32)"
      ]
     },
     "execution_count": 65,
     "metadata": {},
     "output_type": "execute_result"
    }
   ],
   "source": [
    "p = screen.sum(axis=1)\n",
    "np.zeros((4,2),dtype='float32')"
   ]
  },
  {
   "cell_type": "code",
   "execution_count": 66,
   "metadata": {},
   "outputs": [],
   "source": [
    "def order_pts(pts):\n",
    "    rect = np.zeros((4,2),dtype='float32')\n",
    "    \n",
    "    s = pts.sum(axis=1)\n",
    "    print(s)\n",
    "    rect[0] = pts[np.argmin(s)]\n",
    "    rect[2] = pts[np.argmax(s)]\n",
    "    \n",
    "    diff = np.diff(pts, axis=1)\n",
    "    print(diff)\n",
    "    rect[1] = pts[np.argmin(diff)]\n",
    "    rect[3] = pts[np.argmax(diff)]\n",
    "    \n",
    "    return rect"
   ]
  },
  {
   "cell_type": "code",
   "execution_count": 67,
   "metadata": {},
   "outputs": [],
   "source": [
    "def four_point_transform(image,pts):\n",
    "    \n",
    "    rect = order_pts(pts)\n",
    "    (tl,tr,br,bl) = rect\n",
    "    print(tl)\n",
    "    print(tr)\n",
    "    print(br)\n",
    "    print(bl)\n",
    "    \n",
    "    widthA = np.sqrt(((br[0]-bl[0])**2)+((br[1]-bl[1])**2))\n",
    "    widthB = np.sqrt(((tr[0]-tl[0])**2)+((tr[1]-tl[1])**2))\n",
    "    maxWidth = max(int(widthA),int(widthB))\n",
    "    print(widthA)\n",
    "    print(widthB)\n",
    "    heightA = np.sqrt(((tr[0]-br[0])**2)+((tr[1]-br[1])**2))\n",
    "    heightB = np.sqrt(((tl[0]-bl[0])**2)+((tl[1]-bl[1])**2))\n",
    "    print(heightA)\n",
    "    print(heightB)\n",
    "    maxHeight = max(int(heightA),int(heightB))\n",
    "    \n",
    "    dst = np.array([[0,0],[maxWidth-1,0],[maxWidth-1,maxHeight-1],[0,maxHeight-1]],dtype='float32')\n",
    "    \n",
    "    M = cv2.getPerspectiveTransform(rect,dst)\n",
    "    warped = cv2.warpPerspective(image,M,(maxWidth,maxHeight))\n",
    "    return warped"
   ]
  },
  {
   "cell_type": "code",
   "execution_count": 68,
   "metadata": {},
   "outputs": [
    {
     "name": "stdout",
     "output_type": "stream",
     "text": [
      "[ 182  845 1283  653]\n",
      "[[  -4]\n",
      " [ 645]\n",
      " [ 103]\n",
      " [-421]]\n",
      "[ 93.  89.]\n",
      "[ 537.  116.]\n",
      "[ 590.  693.]\n",
      "[ 100.  745.]\n",
      "492.751458648\n",
      "444.820188391\n",
      "579.429029304\n",
      "656.037346498\n"
     ]
    }
   ],
   "source": [
    "warped = four_point_transform(page,screen.reshape(4,2))\n",
    "\n",
    "warped = cv2.cvtColor(warped,cv2.COLOR_BGR2GRAY)\n",
    "T = threshold_local(warped, 11, offset=10,method='gaussian')\n",
    "warped = (warped>T).astype('uint8')*255"
   ]
  },
  {
   "cell_type": "code",
   "execution_count": 69,
   "metadata": {},
   "outputs": [],
   "source": [
    "cv2.imshow('tab',warped)\n",
    "cv2.waitKey()\n",
    "cv2.destroyAllWindows()"
   ]
  },
  {
   "cell_type": "code",
   "execution_count": null,
   "metadata": {},
   "outputs": [],
   "source": []
  }
 ],
 "metadata": {
  "kernelspec": {
   "display_name": "Python 3",
   "language": "python",
   "name": "python3"
  },
  "language_info": {
   "codemirror_mode": {
    "name": "ipython",
    "version": 3
   },
   "file_extension": ".py",
   "mimetype": "text/x-python",
   "name": "python",
   "nbconvert_exporter": "python",
   "pygments_lexer": "ipython3",
   "version": "3.5.5"
  }
 },
 "nbformat": 4,
 "nbformat_minor": 2
}
