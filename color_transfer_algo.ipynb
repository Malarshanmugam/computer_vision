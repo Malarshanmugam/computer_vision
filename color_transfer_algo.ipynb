{
 "cells": [
  {
   "cell_type": "code",
   "execution_count": 5,
   "metadata": {},
   "outputs": [],
   "source": [
    "import cv2\n",
    "import numpy as np\n",
    "import matplotlib.pyplot as plt"
   ]
  },
  {
   "cell_type": "code",
   "execution_count": 6,
   "metadata": {},
   "outputs": [],
   "source": [
    "sunset = cv2.imread('images/sunset.jpg')\n",
    "cv2.imshow('tab',sunset)\n",
    "cv2.waitKey()\n",
    "cv2.destroyAllWindows()"
   ]
  },
  {
   "cell_type": "code",
   "execution_count": 7,
   "metadata": {},
   "outputs": [],
   "source": [
    "beach = cv2.imread('images/beach.jpg')\n",
    "cv2.imshow('tab',beach)\n",
    "cv2.waitKey()\n",
    "cv2.destroyAllWindows()"
   ]
  },
  {
   "cell_type": "code",
   "execution_count": 8,
   "metadata": {},
   "outputs": [],
   "source": [
    "def image_stats(image):\n",
    "    (l,a,b) = cv2.split(image)\n",
    "    (lmean,lstd) = (l.mean(),l.std())\n",
    "    (amean,astd) = (a.mean(),a.std())\n",
    "    (bmean,bstd) = (b.mean(),b.std())\n",
    "    return (lmean,lstd,amean,astd,bmean,bstd)"
   ]
  },
  {
   "cell_type": "code",
   "execution_count": 10,
   "metadata": {},
   "outputs": [],
   "source": [
    "def color_transfer(source,target):\n",
    "    source = cv2.cvtColor(source, cv2.COLOR_BGR2LAB).astype('float32')\n",
    "    target = cv2.cvtColor(target, cv2.COLOR_BGR2LAB).astype('float32')\n",
    "    (lms,lss,ams,ass,bms,bss) = image_stats(source)\n",
    "    (lmt,lst,amt,ast,bmt,bst) = image_stats(target)\n",
    "    (l,a,b) = cv2.split(target)\n",
    "    l -= lmt\n",
    "    a -= amt\n",
    "    b -= bmt\n",
    "    \n",
    "    l = (lst/lss)*l\n",
    "    a = (ast/ass)*a\n",
    "    b = (bst/bss)*b\n",
    "    \n",
    "    l += lms\n",
    "    a += ams\n",
    "    b += bms\n",
    "    \n",
    "    l = np.clip(l,0,255)\n",
    "    a = np.clip(a,0,255)\n",
    "    b = np.clip(b,0,255)\n",
    "    \n",
    "    transfer = cv2.merge([l,a,b])\n",
    "    transfer = cv2.cvtColor(transfer,cv2.COLOR_LAB2BGR)\n",
    "    return transfer\n",
    "    "
   ]
  },
  {
   "cell_type": "code",
   "execution_count": 11,
   "metadata": {},
   "outputs": [],
   "source": [
    "rs = color_transfer(sunset, beach)\n",
    "cv2.imshow('tab',rs)\n",
    "cv2.waitKey()\n",
    "cv2.destroyAllWindows()"
   ]
  },
  {
   "cell_type": "code",
   "execution_count": null,
   "metadata": {},
   "outputs": [],
   "source": []
  }
 ],
 "metadata": {
  "kernelspec": {
   "display_name": "Python 3",
   "language": "python",
   "name": "python3"
  },
  "language_info": {
   "codemirror_mode": {
    "name": "ipython",
    "version": 3
   },
   "file_extension": ".py",
   "mimetype": "text/x-python",
   "name": "python",
   "nbconvert_exporter": "python",
   "pygments_lexer": "ipython3",
   "version": "3.5.5"
  }
 },
 "nbformat": 4,
 "nbformat_minor": 2
}
