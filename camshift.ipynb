{
 "cells": [
  {
   "cell_type": "code",
   "execution_count": 11,
   "metadata": {},
   "outputs": [],
   "source": [
    "import numpy as np\n",
    "import cv2\n",
    "import matplotlib.pyplot as plt"
   ]
  },
  {
   "cell_type": "code",
   "execution_count": 12,
   "metadata": {},
   "outputs": [],
   "source": [
    "frame = None\n",
    "roiPts = []\n",
    "inputMode = False"
   ]
  },
  {
   "cell_type": "code",
   "execution_count": 35,
   "metadata": {},
   "outputs": [],
   "source": [
    "def select_ROI(event, x, y, flags, param):\n",
    "    global frame, roiPts, inputMode\n",
    "    print('select')\n",
    "    if inputMode and event == cv2.EVENT_LBUTTONDBLCLK and len(roiPts)<4:\n",
    "        roiPts.append((x,y))\n",
    "        cv2.circle(frame,(x,y),4,(0,255,0),2)\n",
    "        cv2.imshow('frame',frame)\n",
    "        "
   ]
  },
  {
   "cell_type": "code",
   "execution_count": 36,
   "metadata": {},
   "outputs": [],
   "source": [
    "def main():\n",
    "    global frame, roiPts, inputMode\n",
    "    \n",
    "    cam = cv2.VideoCapture(0)\n",
    "    \n",
    "    cv2.namedWindow('frame')\n",
    "    cv2.setMouseCallback('frame', select_ROI)\n",
    "    \n",
    "    termination = (cv2.TERM_CRITERIA_EPS | cv2.TERM_CRITERIA_COUNT, 10,1)\n",
    "    roibox = None\n",
    "    \n",
    "    while True:\n",
    "        (ret, frame) = cam.read()\n",
    "        if ret == False:\n",
    "            break\n",
    "        \n",
    "        if roibox is not None:\n",
    "            hsv = cv2.cvtColor(frame, cv2.COLOR_BGR2HSV)\n",
    "            backproj = cv2.calcBackProject([hsv],[0],roiHist,[0,180],1)\n",
    "            print('roibox')\n",
    "            (r,roibox) = cv2.CamShift(backproj, roibox, termination)\n",
    "            pts = np.int0(cv2.boxPoints(r))\n",
    "            cv2.polylines(frame,[pts],True,(0,255,0),2)\n",
    "            \n",
    "        cv2.imshow('frame', frame)\n",
    "        key = cv2.waitKey(1) & 0xFF \n",
    "        if key == ord('a') & len(roiPts)<4:\n",
    "            inputMode = True\n",
    "            orig = frame.copy()\n",
    "            \n",
    "            while len(roiPts)<4:\n",
    "                cv2.imshow('frame', frame)\n",
    "                cv2.waitKey(0)\n",
    "                \n",
    "            roiPts = np.array(roiPts)\n",
    "            s = roiPts.sum(axis=1)\n",
    "            tl = roiPts[np.argmin(s)]\n",
    "            br = roiPts[np.argmax(s)]\n",
    "            \n",
    "            \n",
    "            roi = orig[tl[1]:br[1],tl[0]:br[0]]\n",
    "            roi = cv2.cvtColor(orig, cv2.COLOR_BGR2HSV)\n",
    "            \n",
    "            \n",
    "            roiHist = cv2.calcHist([roi],[0],None,[16],[0,180])\n",
    "            roiHist = cv2.normalize(roiHist,roiHist,0,255, cv2.NORM_MINMAX)\n",
    "            roibox = (tl[0],tl[1],br[0],br[1])\n",
    "            pause(4000)\n",
    "        elif key== ord('q'):\n",
    "            break\n",
    "            \n",
    "    cam.release()\n",
    "    cv2.destroyAllWindows()"
   ]
  },
  {
   "cell_type": "code",
   "execution_count": 37,
   "metadata": {},
   "outputs": [
    {
     "name": "stdout",
     "output_type": "stream",
     "text": [
      "select\n",
      "select\n",
      "select\n",
      "select\n",
      "select\n",
      "select\n",
      "select\n",
      "select\n",
      "select\n",
      "select\n",
      "select\n",
      "select\n",
      "select\n",
      "select\n",
      "select\n",
      "select\n",
      "select\n",
      "select\n"
     ]
    }
   ],
   "source": [
    "if __name__ == \"__main__\":\n",
    "    main()"
   ]
  },
  {
   "cell_type": "code",
   "execution_count": 24,
   "metadata": {},
   "outputs": [],
   "source": [
    "def draw_circle(event,x,y,flags,param):\n",
    "    if event == cv2.EVENT_LBUTTONDBLCLK:\n",
    "        cv2.circle(img,(x,y),100,(255,0,0),-1)\n",
    "\n",
    "# Create a black image, a window and bind the function to window\n",
    "img = np.zeros((512,512,3), np.uint8)\n",
    "cv2.namedWindow('image')\n",
    "cv2.setMouseCallback('image',draw_circle)\n",
    "\n",
    "while(1):\n",
    "    cv2.imshow('image',img)\n",
    "    if cv2.waitKey(20) & 0xFF == 27:\n",
    "        break\n",
    "cv2.destroyAllWindows()"
   ]
  },
  {
   "cell_type": "code",
   "execution_count": null,
   "metadata": {},
   "outputs": [],
   "source": []
  }
 ],
 "metadata": {
  "kernelspec": {
   "display_name": "Python 3",
   "language": "python",
   "name": "python3"
  },
  "language_info": {
   "codemirror_mode": {
    "name": "ipython",
    "version": 3
   },
   "file_extension": ".py",
   "mimetype": "text/x-python",
   "name": "python",
   "nbconvert_exporter": "python",
   "pygments_lexer": "ipython3",
   "version": "3.5.5"
  }
 },
 "nbformat": 4,
 "nbformat_minor": 2
}
